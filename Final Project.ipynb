{
 "cells": [
  {
   "cell_type": "markdown",
   "id": "3717827e-88a9-4f6a-a6c5-9a97198c2295",
   "metadata": {},
   "source": [
    "<font size=\"5\"> The Prediction of heart disease based on symptoms and patient characteristics </font>"
   ]
  },
  {
   "cell_type": "markdown",
   "id": "995d228f-dfad-4123-8361-5c3c1e75d5bf",
   "metadata": {},
   "source": [
    "<font size= \"3\"> DSCI 100 section 010 group 22:  Emily Chen, Mehakpreet Dhaliwal, Haoxi Jiang, Manika Mohinani.  </font>"
   ]
  },
  {
   "cell_type": "markdown",
   "id": "f013111e-f265-4d6b-8f5f-327f4c0ede69",
   "metadata": {},
   "source": [
    "<font size= \"4\"> Introduction </font>"
   ]
  },
  {
   "cell_type": "markdown",
   "id": "e8108e3f-3c9b-48db-91b8-bffaa8f79eae",
   "metadata": {},
   "source": [
    "Heart disease, a term used to refer to several types of heart conditions, is one of the leading causes of death worldwide. Factors including lifestyle, genetic predisposition, and age, can influence an individual’s likelihood of developing heart disease. By understanding the interplay between these contributors, global healthcare agencies can work towards the improvement of early detection and prevention strategies. According to health authorities and research, angina, commonly known as chest pain, is a significant factor in the diagnosis of heart disease, along with age, cholesterol levels, and blood pressure (“Heart Disease”, 2020). We aim to address the question “Can we create a model to predict whether an individual in Cleveland is likely to have heart disease based on specific symptoms and biology of patients?” We will utilise the processed Cleveland data from the dataset ‘Heart Disease’ provided by ‘UC Irvine Machine Learning Repository’, focusing on variables that are reportedly significant in diagnosis of heart disease. "
   ]
  },
  {
   "cell_type": "markdown",
   "id": "ac37a51f-b221-4462-a2b3-86714f421bc0",
   "metadata": {},
   "source": [
    "<font size= \"3\"> Research question: </font>"
   ]
  },
  {
   "cell_type": "markdown",
   "id": "8680246e-1aaf-423c-8aac-c0323e48d68b",
   "metadata": {},
   "source": [
    "<font size= \"4\"> Method and result </font>"
   ]
  },
  {
   "cell_type": "code",
   "execution_count": null,
   "id": "ca7c8bf3-cf1c-4dc9-90be-4c6cb1d1334c",
   "metadata": {},
   "outputs": [],
   "source": []
  },
  {
   "cell_type": "markdown",
   "id": "e117427f-6742-4222-9f37-38210924d981",
   "metadata": {},
   "source": [
    "<font size= \"4\"> Discussion </font>"
   ]
  },
  {
   "cell_type": "code",
   "execution_count": null,
   "id": "d3d3fd6c-e004-4636-bb7a-d5cb33e0c050",
   "metadata": {},
   "outputs": [],
   "source": []
  },
  {
   "cell_type": "markdown",
   "id": "1f58e3cb-b2a9-4d21-9d18-be6b048dcd66",
   "metadata": {},
   "source": [
    "<font size= \"4\"> Reference </font>"
   ]
  },
  {
   "cell_type": "code",
   "execution_count": null,
   "id": "056fb9fa-1874-4aa3-acac-c7833c9ea031",
   "metadata": {},
   "outputs": [],
   "source": []
  }
 ],
 "metadata": {
  "kernelspec": {
   "display_name": "R",
   "language": "R",
   "name": "ir"
  },
  "language_info": {
   "codemirror_mode": "r",
   "file_extension": ".r",
   "mimetype": "text/x-r-source",
   "name": "R",
   "pygments_lexer": "r",
   "version": "4.3.1"
  }
 },
 "nbformat": 4,
 "nbformat_minor": 5
}
